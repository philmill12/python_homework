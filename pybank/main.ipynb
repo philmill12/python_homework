{
 "cells": [
  {
   "cell_type": "code",
   "execution_count": 1,
   "metadata": {},
   "outputs": [],
   "source": [
    "#PyBank Code"
   ]
  },
  {
   "cell_type": "code",
   "execution_count": 2,
   "metadata": {},
   "outputs": [],
   "source": [
    "#Python script needs to analyze the record and calculate the following:"
   ]
  },
  {
   "cell_type": "code",
   "execution_count": null,
   "metadata": {},
   "outputs": [],
   "source": [
    "# 1 - The total number of months included in the dataset."
   ]
  },
  {
   "cell_type": "code",
   "execution_count": null,
   "metadata": {},
   "outputs": [],
   "source": [
    "# 2 - The net total amount of Profit/Losses over the entire period."
   ]
  },
  {
   "cell_type": "code",
   "execution_count": null,
   "metadata": {},
   "outputs": [],
   "source": [
    "# 3 - The average of the changes in Profit/Losses over the entire period."
   ]
  },
  {
   "cell_type": "code",
   "execution_count": null,
   "metadata": {},
   "outputs": [],
   "source": [
    "# 4 - The greatest increase in profits (date and amount) over the entire period."
   ]
  },
  {
   "cell_type": "code",
   "execution_count": 3,
   "metadata": {},
   "outputs": [],
   "source": [
    "# 5 - The greatest decrease in losses (date and amount) over the entire period."
   ]
  },
  {
   "cell_type": "code",
   "execution_count": 40,
   "metadata": {},
   "outputs": [],
   "source": [
    "# Import the pathlib and csv library\n",
    "from pathlib import Path\n",
    "import csv"
   ]
  },
  {
   "cell_type": "code",
   "execution_count": 41,
   "metadata": {},
   "outputs": [],
   "source": [
    "# Set the filepath\n",
    "csvpath = Path('C:/Users/phill/OneDrive/Desktop/CU_FinTech/python_homework/pybank/budget_data.csv')"
   ]
  },
  {
   "cell_type": "code",
   "execution_count": 42,
   "metadata": {},
   "outputs": [],
   "source": [
    "# Initiallize list of monthly pnl data\n",
    "monthly_pnl_data = []\n",
    "\n",
    "# Initialize variables for calculations\n",
    "prev_mnth_pnl = 0\n",
    "month_cnt = 0\n",
    "pnl = 0.0\n",
    "date = \"\"\n",
    "total_net_pnl = 0\n",
    "monthly_change = 0\n",
    "average_pnl_change = 0\n",
    "greatest_profit_increase = 0\n",
    "greatest_profit_decrease = 0\n",
    "greastest_increase_date = \"\"\n",
    "greatest_decrease_date = \"\"\n",
    "monthly_change_list= []"
   ]
  },
  {
   "cell_type": "code",
   "execution_count": 43,
   "metadata": {},
   "outputs": [
    {
     "name": "stdout",
     "output_type": "stream",
     "text": [
      "-2315.12\n",
      "86\n",
      "38382578.0\n",
      "1926159.0\n",
      "Feb-2012\n",
      "-2196167.0\n",
      "Sep-2013\n"
     ]
    }
   ],
   "source": [
    "# Open csv file\n",
    "with open(csvpath, 'r') as csvfile:\n",
    "    csvreader = csv.reader(csvfile, delimiter=',')\n",
    "    csv_header = next(csvreader)\n",
    "    #print(csv_header)\n",
    "    #monthly_pnl_data.append(csv_header)\n",
    "    #print(monthly_pnl_data)\n",
    "    # Start for loop to iterate through list\n",
    "    for row in csvreader:\n",
    "        #print(row[0]) #print date\n",
    "        #print(row[1]) # print profit/loss\n",
    "        #print(row)\n",
    "        # Calculate # of months variable is month_cnt\n",
    "        month_cnt = month_cnt+1\n",
    "        date = row[0]\n",
    "        # Calculate total_net_pn\n",
    "        pnl = float(row[1])\n",
    "        total_net_pnl = total_net_pnl+pnl\n",
    "        # Calculate the change in PNl - variable is monthly_change\n",
    "        # initialize monthly_change_list and append monthly_change to it - need monthly_change_list to calculate average of monthly changes - round average \n",
    "        if month_cnt > 1:\n",
    "            monthly_change = pnl-prev_mnth_pnl\n",
    "            monthly_change_list.append(monthly_change)\n",
    "            average_pnl_change = round(sum(monthly_change_list)/len(monthly_change_list), 2)\n",
    "            # Calculate greatest_profit_increase and greatest_increase_date\n",
    "            if monthly_change > greatest_profit_increase:\n",
    "                greatest_profit_increase = monthly_change\n",
    "                greatest_increase_date = date\n",
    "            # Calculate greatest_profit_decrease and greatest_decrease_date\n",
    "            if monthly_change < greatest_profit_decrease:\n",
    "                greatest_profit_decrease = monthly_change\n",
    "                greatest_decrease_date = date\n",
    "        prev_mnth_pnl = pnl\n",
    "    print(average_pnl_change)\n",
    "    print(month_cnt)\n",
    "    print(total_net_pnl)\n",
    "    print(greatest_profit_increase)\n",
    "    print(greatest_increase_date)\n",
    "    print(greatest_profit_decrease)\n",
    "    print(greatest_decrease_date)"
   ]
  },
  {
   "cell_type": "code",
   "execution_count": 66,
   "metadata": {},
   "outputs": [],
   "source": [
    "# Set the path for the output_budget_data_analysis.csv\n",
    "output_budget_data_analysis = Path(\"C:/Users/phill/OneDrive/Desktop/CU_FinTech/python_homework/pybank/output_budget_data_analysis.txt\")"
   ]
  },
  {
   "cell_type": "code",
   "execution_count": 73,
   "metadata": {},
   "outputs": [],
   "source": [
    "# Initialize a list for financial analysis output\n",
    "financial_analysis = [\n",
    "        \"Financial Analysis\",\n",
    "        \"-----------------------------------------------------------------------\",\n",
    "        (f'Total Months: {month_cnt}'),\n",
    "        (f'Total Net P/L: ${total_net_pnl}'),\n",
    "        (f'Average Monthly P/L Change: ${average_pnl_change}'),\n",
    "        (f'Greatest Monthly Increase in Profits: {greatest_increase_date} (${greatest_profit_increase})'),\n",
    "        (f'Greatest Monthly Decrease in Profits: {greatest_decrease_date} (${greatest_profit_decrease})')]\n",
    "#print(financial_analysis)"
   ]
  },
  {
   "cell_type": "code",
   "execution_count": 73,
   "metadata": {},
   "outputs": [],
   "source": [
    "# Open the output path as a file and write rows of financial_analysis list, use \"\\n\" to create new row\n",
    "with open(output_budget_data_analysis, 'w') as textfile:\n",
    "    for line in financial_analysis:\n",
    "        textfile.write(line)\n",
    "        textfile.write(\"\\n\")        \n",
    "        "
   ]
  },
  {
   "cell_type": "code",
   "execution_count": null,
   "metadata": {},
   "outputs": [],
   "source": []
  },
  {
   "cell_type": "code",
   "execution_count": null,
   "metadata": {},
   "outputs": [],
   "source": []
  }
 ],
 "metadata": {
  "kernelspec": {
   "display_name": "Python 3",
   "language": "python",
   "name": "python3"
  },
  "language_info": {
   "codemirror_mode": {
    "name": "ipython",
    "version": 3
   },
   "file_extension": ".py",
   "mimetype": "text/x-python",
   "name": "python",
   "nbconvert_exporter": "python",
   "pygments_lexer": "ipython3",
   "version": "3.8.3"
  }
 },
 "nbformat": 4,
 "nbformat_minor": 4
}
